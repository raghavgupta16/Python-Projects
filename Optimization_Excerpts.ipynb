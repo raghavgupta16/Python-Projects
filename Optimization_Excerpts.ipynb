{
 "cells": [
  {
   "cell_type": "markdown",
   "metadata": {},
   "source": [
    "# Raghav Gupta\n",
    "\n",
    "March 2020\n",
    "\n",
    "These are code excerpts from a course on optimization modelling"
   ]
  },
  {
   "cell_type": "markdown",
   "metadata": {},
   "source": [
    "## Problem 1: Lockbox\n",
    "\n",
    "A major credit card company (call it “MasterDebt”) receives checks from all different regions in the country on a daily basis.  Once these checks are mailed, the time a check spends in the mail (called “float”) creates loss for MasterDebt, for as soon as they receive the checks they can cash them and collect interest on the funds.  MasterDebt can make 15% annual interest on their cash holdings (since that’s what they charge their customers in credit card interest).\n",
    "\n",
    "In order to reduce the amount of float loss for these checks, MasterDebt is considering opening “Lockbox” locations across the country where the checks can be received and processed.\n",
    "\n",
    "The annual interest lost can be computed for each region-lockbox location by taking the average daily payments times the float time and multiplying by fifteen percent.  For example, if payments from the Central region are sent to New York, then on any given day there is an average of $135,000 of undeposited checks, which costs MasterDebt $20,250 annually in interest.\n",
    "\n",
    "Where should MasterDebt open lockbox locations in order to save the most money each year?\n",
    "Which regions should be assigned to those lockbox locations?  \n",
    "\n"
   ]
  },
  {
   "cell_type": "code",
   "execution_count": null,
   "metadata": {},
   "outputs": [],
   "source": [
    "# Import Packages\n",
    "\n",
    "%matplotlib inline\n",
    "import matplotlib.pyplot as plt\n",
    "import numpy as np\n",
    "import pandas as pd\n",
    "from io import StringIO\n",
    "from scipy.stats import norm\n",
    "from pylab import *\n",
    "from pyomo.environ import *"
   ]
  },
  {
   "cell_type": "code",
   "execution_count": null,
   "metadata": {},
   "outputs": [],
   "source": [
    "# Read Tables\n",
    "\n",
    "interest = pd.read_excel(\"lockbox.xlsx\", sheet_name = \"interesta\", index_col=0)\n",
    "annual = pd.read_excel(\"lockbox.xlsx\", sheet_name = \"costa\", index_col=0)\n",
    "matrix = pd.read_excel(\"lockbox.xlsx\", sheet_name = \"costm\", index_col=0)\n",
    "floats = pd.read_excel(\"lockbox.xlsx\", sheet_name = \"floats\", index_col=0)\n",
    "payment = pd.read_excel(\"lockbox.xlsx\", sheet_name = \"payment\", index_col=0)"
   ]
  },
  {
   "cell_type": "code",
   "execution_count": null,
   "metadata": {},
   "outputs": [],
   "source": [
    "# Construct the objective function\n",
    "\n",
    "model = ConcreteModel()\n",
    "\n",
    "C = interest.keys()\n",
    "I = interest.index\n",
    "\n",
    "model.x = Var(I,C, domain=Binary)\n",
    "model.y = Var(C, domain=Binary)\n",
    "\n",
    "model.cost = Objective(expr = sum([model.x[i,c]*interest.loc[i,c] for i in I for c in C]) + sum([model.y[c]*annual.loc['OpCost',c] for c in C]), sense=minimize)"
   ]
  },
  {
   "cell_type": "code",
   "execution_count": null,
   "metadata": {},
   "outputs": [],
   "source": [
    "# Construct the constraints\n",
    "\n",
    "model.cons = ConstraintList()\n",
    "\n",
    "for i in I:\n",
    "        model.cons.add(sum([model.x[i,c] for c in C]) ==1)\n",
    "for c in C:\n",
    "    for i in I:\n",
    "        model.cons.add(model.x[i,c] <= model.y[c])"
   ]
  },
  {
   "cell_type": "code",
   "execution_count": null,
   "metadata": {},
   "outputs": [],
   "source": [
    "# Run the model\n",
    "\n",
    "SolverFactory('glpk').solve(model)\n",
    "model.display()"
   ]
  },
  {
   "cell_type": "code",
   "execution_count": null,
   "metadata": {},
   "outputs": [],
   "source": []
  }
 ],
 "metadata": {
  "kernelspec": {
   "display_name": "Python 3",
   "language": "python",
   "name": "python3"
  },
  "language_info": {
   "codemirror_mode": {
    "name": "ipython",
    "version": 3
   },
   "file_extension": ".py",
   "mimetype": "text/x-python",
   "name": "python",
   "nbconvert_exporter": "python",
   "pygments_lexer": "ipython3",
   "version": "3.7.4"
  }
 },
 "nbformat": 4,
 "nbformat_minor": 4
}
