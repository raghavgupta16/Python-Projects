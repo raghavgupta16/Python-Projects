{
 "cells": [
  {
   "cell_type": "markdown",
   "metadata": {},
   "source": [
    "# Raghav Gupta\n",
    "\n",
    "July 2020\n",
    "\n",
    "Regression Analysis using Gapminder"
   ]
  },
  {
   "cell_type": "code",
   "execution_count": null,
   "metadata": {},
   "outputs": [],
   "source": [
    "import pandas as pd\n",
    "import numpy as np\n",
    "from ggplot import *\n",
    "import matplotlib.pyplot as plt\n",
    "from sklearn.linear_model import LinearRegression\n",
    "import statsmodels.formula.api as sm\n",
    "from statsmodels.sandbox.regression.predstd import wls_prediction_std\n",
    "from sklearn import *\n",
    "import sklearn.datasets\n",
    "import sklearn.linear_model\n",
    "import matplotlib.pyplot as plt\n",
    "import math as math\n",
    "\n",
    "data = pd.read_csv(\"gap.tsv\", sep='\\t')\n",
    "data.head()"
   ]
  },
  {
   "cell_type": "code",
   "execution_count": null,
   "metadata": {},
   "outputs": [],
   "source": [
    "df_1 = data[['year', 'lifeExp']].sort_values(by=['year'])\n",
    "\n",
    "year = df_1['year'].values\n",
    "lifexp = df_1['lifeExp'].values\n",
    "\n",
    "plt.plot(year, lifexp,'o')\n",
    "plt.title(\"life expectancy over time\")\n",
    "\n",
    "plt.xlabel(\"year\")\n",
    "plt.ylabel(\"life expentancy\")\n",
    "\n",
    "plt.show()"
   ]
  },
  {
   "cell_type": "code",
   "execution_count": null,
   "metadata": {},
   "outputs": [],
   "source": [
    "ggplot(aes(x='year', y='lifeExp'), data=data) + geom_violin() + labs(title=\"life expectancy over time\", x = \"year\", y = \"life expectancy\")"
   ]
  },
  {
   "cell_type": "markdown",
   "metadata": {},
   "source": [
    "Both the scatter plot and the violin show that life expectancy has increased over time"
   ]
  },
  {
   "cell_type": "code",
   "execution_count": null,
   "metadata": {},
   "outputs": [],
   "source": [
    "npm = np.matrix(df_1)\n",
    "X = npm[:,0] \n",
    "Y = npm[:,1]\n",
    "model = LinearRegression().fit(X,Y) \n",
    "m = model.coef_[0]\n",
    "c = model.intercept_\n",
    "x_1 = np.linspace(year.max(), year.min())\n",
    "y_1 = (x_1*m)+c\n",
    "\n",
    "plt.plot(year,lifexp,'o')\n",
    "plt.plot(x_1,y_1,'r')\n",
    "plt.title('Linear Regression')\n",
    "plt.xlabel(\"year\")\n",
    "plt.ylabel(\"lifeExp\")\n",
    "plt.show()"
   ]
  },
  {
   "cell_type": "code",
   "execution_count": null,
   "metadata": {},
   "outputs": [],
   "source": [
    "result_linear = sm.ols(formula=\"lifeExp ~ year\", data=df_1).fit()\n",
    "print (result_linear.summary())"
   ]
  },
  {
   "cell_type": "markdown",
   "metadata": {},
   "source": [
    "The linear trend in average life expectancy is that it increase by 0.32 years every year"
   ]
  },
  {
   "cell_type": "markdown",
   "metadata": {},
   "source": [
    "Now, looking at residuals to check the robustness of our analysis. First we will look at residuals accross time, and then residuals accross continents."
   ]
  },
  {
   "cell_type": "code",
   "execution_count": null,
   "metadata": {},
   "outputs": [],
   "source": [
    "residual_data = df_1.copy()\n",
    "residual_data['residual'] =  residual_data['lifeExp'] - (residual_data['year']*m+c)\n",
    "residual = residual_data.drop(['lifeExp'], 1)\n",
    "\n",
    "ggplot(aes(x='year', y='residual'), data = residual) + geom_violin() + labs(title=\"Residual over time\",\n",
    "         x = \"year\",\n",
    "         y = \"residual\")"
   ]
  },
  {
   "cell_type": "markdown",
   "metadata": {},
   "source": [
    "There is a linear trend in residuals accross years, ensuring that these residuals don't contain any information that is being left out by the analysis"
   ]
  },
  {
   "cell_type": "code",
   "execution_count": 2,
   "metadata": {},
   "outputs": [
    {
     "ename": "NameError",
     "evalue": "name 'data' is not defined",
     "output_type": "error",
     "traceback": [
      "\u001b[0;31m---------------------------------------------------------------------------\u001b[0m",
      "\u001b[0;31mNameError\u001b[0m                                 Traceback (most recent call last)",
      "\u001b[0;32m<ipython-input-2-985cd2c4cc4c>\u001b[0m in \u001b[0;36m<module>\u001b[0;34m\u001b[0m\n\u001b[0;32m----> 1\u001b[0;31m \u001b[0mcontinent_data\u001b[0m \u001b[0;34m=\u001b[0m \u001b[0mdata\u001b[0m\u001b[0;34m[\u001b[0m\u001b[0;34m[\u001b[0m\u001b[0;34m'year'\u001b[0m\u001b[0;34m,\u001b[0m \u001b[0;34m'lifeExp'\u001b[0m\u001b[0;34m,\u001b[0m \u001b[0;34m'continent'\u001b[0m\u001b[0;34m]\u001b[0m\u001b[0;34m]\u001b[0m\u001b[0;34m.\u001b[0m\u001b[0mcopy\u001b[0m\u001b[0;34m(\u001b[0m\u001b[0;34m)\u001b[0m\u001b[0;34m\u001b[0m\u001b[0;34m\u001b[0m\u001b[0m\n\u001b[0m\u001b[1;32m      2\u001b[0m \u001b[0mcontinent_data\u001b[0m\u001b[0;34m[\u001b[0m\u001b[0;34m'residual'\u001b[0m\u001b[0;34m]\u001b[0m \u001b[0;34m=\u001b[0m  \u001b[0mcontinent_data\u001b[0m\u001b[0;34m[\u001b[0m\u001b[0;34m'lifeExp'\u001b[0m\u001b[0;34m]\u001b[0m \u001b[0;34m-\u001b[0m \u001b[0;34m(\u001b[0m\u001b[0mcontinent_data\u001b[0m\u001b[0;34m[\u001b[0m\u001b[0;34m'year'\u001b[0m\u001b[0;34m]\u001b[0m\u001b[0;34m*\u001b[0m\u001b[0mm\u001b[0m\u001b[0;34m+\u001b[0m\u001b[0mc\u001b[0m\u001b[0;34m)\u001b[0m\u001b[0;34m\u001b[0m\u001b[0;34m\u001b[0m\u001b[0m\n\u001b[1;32m      3\u001b[0m \u001b[0mclean\u001b[0m \u001b[0;34m=\u001b[0m \u001b[0mcontinent_data\u001b[0m\u001b[0;34m.\u001b[0m\u001b[0mdrop\u001b[0m\u001b[0;34m(\u001b[0m\u001b[0;34m[\u001b[0m\u001b[0;34m'lifeExp'\u001b[0m\u001b[0;34m,\u001b[0m \u001b[0;34m'year'\u001b[0m\u001b[0;34m]\u001b[0m\u001b[0;34m,\u001b[0m \u001b[0;36m1\u001b[0m\u001b[0;34m)\u001b[0m\u001b[0;34m\u001b[0m\u001b[0;34m\u001b[0m\u001b[0m\n\u001b[1;32m      4\u001b[0m \u001b[0;34m\u001b[0m\u001b[0m\n\u001b[1;32m      5\u001b[0m ggplot(aes(x='continent', y='residual'), data = clean) + geom_violin() + labs(title=\"residual against continent\",\n",
      "\u001b[0;31mNameError\u001b[0m: name 'data' is not defined"
     ]
    }
   ],
   "source": [
    "continent_data = data[['year', 'lifeExp', 'continent']].copy()\n",
    "continent_data['residual'] =  continent_data['lifeExp'] - (continent_data['year']*m+c)\n",
    "clean = continent_data.drop(['lifeExp', 'year'], 1)\n",
    "\n",
    "ggplot(aes(x='continent', y='residual'), data = clean) + geom_violin() + labs(title=\"residual against continent\",\n",
    "         x = \"continent\",\n",
    "         y = \"residuals\")"
   ]
  },
  {
   "cell_type": "code",
   "execution_count": null,
   "metadata": {},
   "outputs": [],
   "source": [
    "continent_list =['Africa','Americas','Asia','Europe','Oceania']\n",
    "clean_cont = continent_data.drop(['lifeExp'], 1)\n",
    "\n",
    "for c in continent_list:\n",
    "    continent_tab = clean_cont.groupby(['continent']).get_group(c)\n",
    "    year_plot = continent_tab['year'].values\n",
    "    residual_plot = continent_tab['residual'].values\n",
    "    \n",
    "    z = np.polyfit(x = year_plot,y = residual_plot,deg = 1)\n",
    "    f = np.poly1d(z)\n",
    "    \n",
    "    x_n = np.linspace(year_plot.min(), year_plot.max(), 100)\n",
    "    y_n = f(x_n)\n",
    "    \n",
    "    plt.plot(year_plot, residual_plot,'o',x_n,y_n)\n",
    "    \n",
    "    plt.xlabel(\"year\")\n",
    "    plt.ylabel(\"residuals\")\n",
    "    plt.title(c)\n",
    "    plt.show()"
   ]
  },
  {
   "cell_type": "markdown",
   "metadata": {},
   "source": [
    "However, among continents, there is no single trend in residuals. This means that we can include an interaction term for continent and year."
   ]
  },
  {
   "cell_type": "code",
   "execution_count": null,
   "metadata": {},
   "outputs": [],
   "source": [
    "w = sm.ols(formula=\"lifeExp ~ continent*year\", data=continent_data).fit()\n",
    "print (w.summary())"
   ]
  }
 ],
 "metadata": {
  "kernelspec": {
   "display_name": "Python 3",
   "language": "python",
   "name": "python3"
  },
  "language_info": {
   "codemirror_mode": {
    "name": "ipython",
    "version": 3
   },
   "file_extension": ".py",
   "mimetype": "text/x-python",
   "name": "python",
   "nbconvert_exporter": "python",
   "pygments_lexer": "ipython3",
   "version": "3.7.4"
  }
 },
 "nbformat": 4,
 "nbformat_minor": 4
}
